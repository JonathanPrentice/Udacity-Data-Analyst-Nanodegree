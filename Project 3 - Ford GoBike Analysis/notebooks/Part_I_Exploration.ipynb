{
 "cells": [
  {
   "cell_type": "markdown",
   "metadata": {},
   "source": [
    "# Part I - Dataset Exploration - Ford GoBike System Data\n",
    "## by Jonathan Prentice\n",
    "\n",
    "# Introduction\n",
    "This project explores the Ford GoBike System Data, which includes information about individual rides made in a bike-sharing system covering the greater San Francisco Bay area. The dataset contains details such as trip duration, start and end times, start and end station locations, bike ID, user type, and user demographics. The main goal of this project is to analyze and visualize the data to uncover insights and trends related to bike usage patterns, user demographics, and trip characteristics. \n",
    "The analysis is divided into two parts: exploratory data visualization and explanatory data visualization. \n",
    "\n",
    "- In the exploratory phase, we will systematically explore the dataset using various visualization techniques to understand data distributions and relationships. Then clean or tidy up based what we find.\n",
    "\n",
    "- In the explanatory phase, we will refine and design clear, polished visualizations to effectively communicate key findings from the dataset.# 1. Gather data"
   ]
  },
  {
   "cell_type": "markdown",
   "metadata": {},
   "source": [
    "# Gather Data and Resources "
   ]
  },
  {
   "cell_type": "code",
   "execution_count": 12,
   "metadata": {},
   "outputs": [],
   "source": [
    "# import all packages and set plots to be embedded inline\n",
    "import numpy as np\n",
    "import pandas as pd\n",
    "import matplotlib.pyplot as plt\n",
    "import seaborn as sns"
   ]
  },
  {
   "cell_type": "markdown",
   "metadata": {},
   "source": [
    "# Preliminary Wrangling"
   ]
  },
  {
   "cell_type": "code",
   "execution_count": 4,
   "metadata": {},
   "outputs": [
    {
     "data": {
      "text/html": [
       "<div>\n",
       "<style scoped>\n",
       "    .dataframe tbody tr th:only-of-type {\n",
       "        vertical-align: middle;\n",
       "    }\n",
       "\n",
       "    .dataframe tbody tr th {\n",
       "        vertical-align: top;\n",
       "    }\n",
       "\n",
       "    .dataframe thead th {\n",
       "        text-align: right;\n",
       "    }\n",
       "</style>\n",
       "<table border=\"1\" class=\"dataframe\">\n",
       "  <thead>\n",
       "    <tr style=\"text-align: right;\">\n",
       "      <th></th>\n",
       "      <th>duration_sec</th>\n",
       "      <th>start_time</th>\n",
       "      <th>end_time</th>\n",
       "      <th>start_station_id</th>\n",
       "      <th>start_station_name</th>\n",
       "      <th>start_station_latitude</th>\n",
       "      <th>start_station_longitude</th>\n",
       "      <th>end_station_id</th>\n",
       "      <th>end_station_name</th>\n",
       "      <th>end_station_latitude</th>\n",
       "      <th>end_station_longitude</th>\n",
       "      <th>bike_id</th>\n",
       "      <th>user_type</th>\n",
       "      <th>member_birth_year</th>\n",
       "      <th>member_gender</th>\n",
       "      <th>bike_share_for_all_trip</th>\n",
       "    </tr>\n",
       "  </thead>\n",
       "  <tbody>\n",
       "    <tr>\n",
       "      <th>0</th>\n",
       "      <td>52185</td>\n",
       "      <td>2019-02-28 17:32:10.1450</td>\n",
       "      <td>2019-03-01 08:01:55.9750</td>\n",
       "      <td>21.0</td>\n",
       "      <td>Montgomery St BART Station (Market St at 2nd St)</td>\n",
       "      <td>37.789625</td>\n",
       "      <td>-122.400811</td>\n",
       "      <td>13.0</td>\n",
       "      <td>Commercial St at Montgomery St</td>\n",
       "      <td>37.794231</td>\n",
       "      <td>-122.402923</td>\n",
       "      <td>4902</td>\n",
       "      <td>Customer</td>\n",
       "      <td>1984.0</td>\n",
       "      <td>Male</td>\n",
       "      <td>No</td>\n",
       "    </tr>\n",
       "    <tr>\n",
       "      <th>1</th>\n",
       "      <td>42521</td>\n",
       "      <td>2019-02-28 18:53:21.7890</td>\n",
       "      <td>2019-03-01 06:42:03.0560</td>\n",
       "      <td>23.0</td>\n",
       "      <td>The Embarcadero at Steuart St</td>\n",
       "      <td>37.791464</td>\n",
       "      <td>-122.391034</td>\n",
       "      <td>81.0</td>\n",
       "      <td>Berry St at 4th St</td>\n",
       "      <td>37.775880</td>\n",
       "      <td>-122.393170</td>\n",
       "      <td>2535</td>\n",
       "      <td>Customer</td>\n",
       "      <td>NaN</td>\n",
       "      <td>NaN</td>\n",
       "      <td>No</td>\n",
       "    </tr>\n",
       "    <tr>\n",
       "      <th>2</th>\n",
       "      <td>61854</td>\n",
       "      <td>2019-02-28 12:13:13.2180</td>\n",
       "      <td>2019-03-01 05:24:08.1460</td>\n",
       "      <td>86.0</td>\n",
       "      <td>Market St at Dolores St</td>\n",
       "      <td>37.769305</td>\n",
       "      <td>-122.426826</td>\n",
       "      <td>3.0</td>\n",
       "      <td>Powell St BART Station (Market St at 4th St)</td>\n",
       "      <td>37.786375</td>\n",
       "      <td>-122.404904</td>\n",
       "      <td>5905</td>\n",
       "      <td>Customer</td>\n",
       "      <td>1972.0</td>\n",
       "      <td>Male</td>\n",
       "      <td>No</td>\n",
       "    </tr>\n",
       "    <tr>\n",
       "      <th>3</th>\n",
       "      <td>36490</td>\n",
       "      <td>2019-02-28 17:54:26.0100</td>\n",
       "      <td>2019-03-01 04:02:36.8420</td>\n",
       "      <td>375.0</td>\n",
       "      <td>Grove St at Masonic Ave</td>\n",
       "      <td>37.774836</td>\n",
       "      <td>-122.446546</td>\n",
       "      <td>70.0</td>\n",
       "      <td>Central Ave at Fell St</td>\n",
       "      <td>37.773311</td>\n",
       "      <td>-122.444293</td>\n",
       "      <td>6638</td>\n",
       "      <td>Subscriber</td>\n",
       "      <td>1989.0</td>\n",
       "      <td>Other</td>\n",
       "      <td>No</td>\n",
       "    </tr>\n",
       "    <tr>\n",
       "      <th>4</th>\n",
       "      <td>1585</td>\n",
       "      <td>2019-02-28 23:54:18.5490</td>\n",
       "      <td>2019-03-01 00:20:44.0740</td>\n",
       "      <td>7.0</td>\n",
       "      <td>Frank H Ogawa Plaza</td>\n",
       "      <td>37.804562</td>\n",
       "      <td>-122.271738</td>\n",
       "      <td>222.0</td>\n",
       "      <td>10th Ave at E 15th St</td>\n",
       "      <td>37.792714</td>\n",
       "      <td>-122.248780</td>\n",
       "      <td>4898</td>\n",
       "      <td>Subscriber</td>\n",
       "      <td>1974.0</td>\n",
       "      <td>Male</td>\n",
       "      <td>Yes</td>\n",
       "    </tr>\n",
       "  </tbody>\n",
       "</table>\n",
       "</div>"
      ],
      "text/plain": [
       "   duration_sec                start_time                  end_time  \\\n",
       "0         52185  2019-02-28 17:32:10.1450  2019-03-01 08:01:55.9750   \n",
       "1         42521  2019-02-28 18:53:21.7890  2019-03-01 06:42:03.0560   \n",
       "2         61854  2019-02-28 12:13:13.2180  2019-03-01 05:24:08.1460   \n",
       "3         36490  2019-02-28 17:54:26.0100  2019-03-01 04:02:36.8420   \n",
       "4          1585  2019-02-28 23:54:18.5490  2019-03-01 00:20:44.0740   \n",
       "\n",
       "   start_station_id                                start_station_name  \\\n",
       "0              21.0  Montgomery St BART Station (Market St at 2nd St)   \n",
       "1              23.0                     The Embarcadero at Steuart St   \n",
       "2              86.0                           Market St at Dolores St   \n",
       "3             375.0                           Grove St at Masonic Ave   \n",
       "4               7.0                               Frank H Ogawa Plaza   \n",
       "\n",
       "   start_station_latitude  start_station_longitude  end_station_id  \\\n",
       "0               37.789625              -122.400811            13.0   \n",
       "1               37.791464              -122.391034            81.0   \n",
       "2               37.769305              -122.426826             3.0   \n",
       "3               37.774836              -122.446546            70.0   \n",
       "4               37.804562              -122.271738           222.0   \n",
       "\n",
       "                               end_station_name  end_station_latitude  \\\n",
       "0                Commercial St at Montgomery St             37.794231   \n",
       "1                            Berry St at 4th St             37.775880   \n",
       "2  Powell St BART Station (Market St at 4th St)             37.786375   \n",
       "3                        Central Ave at Fell St             37.773311   \n",
       "4                         10th Ave at E 15th St             37.792714   \n",
       "\n",
       "   end_station_longitude  bike_id   user_type  member_birth_year  \\\n",
       "0            -122.402923     4902    Customer             1984.0   \n",
       "1            -122.393170     2535    Customer                NaN   \n",
       "2            -122.404904     5905    Customer             1972.0   \n",
       "3            -122.444293     6638  Subscriber             1989.0   \n",
       "4            -122.248780     4898  Subscriber             1974.0   \n",
       "\n",
       "  member_gender bike_share_for_all_trip  \n",
       "0          Male                      No  \n",
       "1           NaN                      No  \n",
       "2          Male                      No  \n",
       "3         Other                      No  \n",
       "4          Male                     Yes  "
      ]
     },
     "execution_count": 4,
     "metadata": {},
     "output_type": "execute_result"
    }
   ],
   "source": [
    "# Load the dataset\n",
    "df = pd.read_csv('/Users/Miles/Public App Files/Udacity-Data-Analyst-Nanodegree/Project 3 - Ford GoBike Analysis/data/201902-fordgobike-tripdata.csv')\n",
    "\n",
    "# Display the first few rows of the dataframe\n",
    "df.head()"
   ]
  },
  {
   "cell_type": "code",
   "execution_count": 5,
   "metadata": {},
   "outputs": [
    {
     "name": "stdout",
     "output_type": "stream",
     "text": [
      "<class 'pandas.core.frame.DataFrame'>\n",
      "RangeIndex: 183412 entries, 0 to 183411\n",
      "Data columns (total 16 columns):\n",
      " #   Column                   Non-Null Count   Dtype  \n",
      "---  ------                   --------------   -----  \n",
      " 0   duration_sec             183412 non-null  int64  \n",
      " 1   start_time               183412 non-null  object \n",
      " 2   end_time                 183412 non-null  object \n",
      " 3   start_station_id         183215 non-null  float64\n",
      " 4   start_station_name       183215 non-null  object \n",
      " 5   start_station_latitude   183412 non-null  float64\n",
      " 6   start_station_longitude  183412 non-null  float64\n",
      " 7   end_station_id           183215 non-null  float64\n",
      " 8   end_station_name         183215 non-null  object \n",
      " 9   end_station_latitude     183412 non-null  float64\n",
      " 10  end_station_longitude    183412 non-null  float64\n",
      " 11  bike_id                  183412 non-null  int64  \n",
      " 12  user_type                183412 non-null  object \n",
      " 13  member_birth_year        175147 non-null  float64\n",
      " 14  member_gender            175147 non-null  object \n",
      " 15  bike_share_for_all_trip  183412 non-null  object \n",
      "dtypes: float64(7), int64(2), object(7)\n",
      "memory usage: 22.4+ MB\n"
     ]
    }
   ],
   "source": [
    "# Display summary statistics for numerical columns\n",
    "df.info()"
   ]
  },
  {
   "cell_type": "code",
   "execution_count": 6,
   "metadata": {},
   "outputs": [
    {
     "name": "stdout",
     "output_type": "stream",
     "text": [
      "Missing values:\n",
      " duration_sec                  0\n",
      "start_time                    0\n",
      "end_time                      0\n",
      "start_station_id            197\n",
      "start_station_name          197\n",
      "start_station_latitude        0\n",
      "start_station_longitude       0\n",
      "end_station_id              197\n",
      "end_station_name            197\n",
      "end_station_latitude          0\n",
      "end_station_longitude         0\n",
      "bike_id                       0\n",
      "user_type                     0\n",
      "member_birth_year          8265\n",
      "member_gender              8265\n",
      "bike_share_for_all_trip       0\n",
      "dtype: int64\n"
     ]
    }
   ],
   "source": [
    "# Check for missing values in the dataset\n",
    "missing_values = df.isnull().sum()\n",
    "print(\"Missing values:\\n\", missing_values)"
   ]
  },
  {
   "cell_type": "code",
   "execution_count": 7,
   "metadata": {},
   "outputs": [
    {
     "name": "stdout",
     "output_type": "stream",
     "text": [
      "Number of duplicate rows: 0\n"
     ]
    }
   ],
   "source": [
    "# Check for duplicate rows\n",
    "duplicate_rows = df.duplicated().sum()\n",
    "print(\"Number of duplicate rows:\", duplicate_rows)"
   ]
  },
  {
   "cell_type": "code",
   "execution_count": 8,
   "metadata": {},
   "outputs": [
    {
     "name": "stdout",
     "output_type": "stream",
     "text": [
      "Unique values in user_type:\n",
      " ['Customer' 'Subscriber']\n",
      "Unique values in member_gender:\n",
      " ['Male' nan 'Other' 'Female']\n",
      "Unique values in bike_share_for_all_trip:\n",
      " ['No' 'Yes']\n"
     ]
    }
   ],
   "source": [
    "# Display unique values in categorical columns\n",
    "categorical_columns = ['user_type', 'member_gender', 'bike_share_for_all_trip']\n",
    "for col in categorical_columns:\n",
    "    print(f\"Unique values in {col}:\\n\", df[col].unique())\n"
   ]
  },
  {
   "cell_type": "code",
   "execution_count": 9,
   "metadata": {},
   "outputs": [
    {
     "data": {
      "text/plain": [
       "Index(['duration_sec', 'start_time', 'end_time', 'start_station_id',\n",
       "       'start_station_name', 'start_station_latitude',\n",
       "       'start_station_longitude', 'end_station_id', 'end_station_name',\n",
       "       'end_station_latitude', 'end_station_longitude', 'bike_id', 'user_type',\n",
       "       'member_birth_year', 'member_gender', 'bike_share_for_all_trip'],\n",
       "      dtype='object')"
      ]
     },
     "execution_count": 9,
     "metadata": {},
     "output_type": "execute_result"
    }
   ],
   "source": [
    "# Display the columns of the dataframe\n",
    "df.columns"
   ]
  },
  {
   "cell_type": "code",
   "execution_count": 10,
   "metadata": {},
   "outputs": [
    {
     "data": {
      "text/plain": [
       "(183412, 16)"
      ]
     },
     "execution_count": 10,
     "metadata": {},
     "output_type": "execute_result"
    }
   ],
   "source": [
    "# Display the number of rows and columns in the dataframe\n",
    "df.shape                "
   ]
  },
  {
   "cell_type": "code",
   "execution_count": 11,
   "metadata": {},
   "outputs": [
    {
     "data": {
      "text/plain": [
       "duration_sec                 int64\n",
       "start_time                  object\n",
       "end_time                    object\n",
       "start_station_id           float64\n",
       "start_station_name          object\n",
       "start_station_latitude     float64\n",
       "start_station_longitude    float64\n",
       "end_station_id             float64\n",
       "end_station_name            object\n",
       "end_station_latitude       float64\n",
       "end_station_longitude      float64\n",
       "bike_id                      int64\n",
       "user_type                   object\n",
       "member_birth_year          float64\n",
       "member_gender               object\n",
       "bike_share_for_all_trip     object\n",
       "dtype: object"
      ]
     },
     "execution_count": 11,
     "metadata": {},
     "output_type": "execute_result"
    }
   ],
   "source": [
    "# Display the data types of the columns\n",
    "df.dtypes"
   ]
  },
  {
   "cell_type": "markdown",
   "metadata": {},
   "source": [
    "### What is the structure of the dataset?\n",
    "The dataset contains information about individual rides made in a bike-sharing system covering the greater San Francisco Bay area. \n",
    "It includes the following columns:\n",
    "\n",
    "Bike / Session Info:\n",
    "- `bike_id`(int64): ID of the bike. **Correct Datatype**, as bike IDs are unique integers.\n",
    "- `duration_sec` (int64): **Correct Datatype**, as it represents the duration of a trip in seconds, which should be an integer.\n",
    "- `start_hour` (int32): **Correct Datatype**, as it represents an hour of the day, which is an integer.\n",
    "\n",
    "- `start_time`(object): Start time of the trip.\n",
    "- `end_time`(object): End time of the trip. \n",
    "These should ideally be converted to datetime for easier manipulation and analysis of time-based data.**\n",
    "\n",
    "- `start_station_id`: ID of the start station. \n",
    "- `end_station_id`: ID of the end station.\n",
    "If station IDs are numeric but have missing values, float64 is fine. However, there are 197 missing values, they should be int64.\n",
    "\n",
    "- `start_station_name` (object): Name of the start station. \n",
    "- `end_station_name` (object): Name of the end station. \n",
    "**Correct Datatypes**, as these are string values.\n",
    "\n",
    "- `start_station_latitude` (float64): Latitude of the start station.\n",
    "- `start_station_longitude` (float64): Longitude of the start station.\n",
    "**Correct Datatypes**, as latitude and longitude are typically stored as floating-point numbers.\n",
    "\n",
    "- `end_station_latitude` (float64): Latitude of the end station.\n",
    "- `end_station_longitude` (float64): Longitude of the end station.\n",
    "**Correct Datatypes**, for geographic coordinates. \n",
    "\n",
    "**User Info:**\n",
    "- `user_type` (object): Type of user. \n",
    "**Correct Datatype**, as this is a categorical variable (e.g., \"Subscriber\" or \"Customer\").\n",
    "\n",
    "- `member_birth_year` (float64): Birth year of the member.\n",
    "There no missing values, it should be int64.\n",
    "\n",
    "- `member_gender` (object): Gender of the member.\n",
    "**Correct Datatype**, as this is a categorical variable (e.g., \"Male\", \"Female\", or \"Other\").\n",
    "\n",
    "- `bike_share_for_all_trip` (object): Whether the bike was shared for the entire trip.\n",
    "**Correct Datatype**, as this is a categorical variable (e.g., \"Yes\" or \"No\").\n",
    "\n",
    "\n",
    "Issues to address: \n",
    "\n",
    "These should ideally be converted to datetime for easier manipulation and analysis of time-based data.**\n",
    "- `start_time`(object): Start time of the trip.\n",
    "- `end_time`(object): End time of the trip. \n",
    "\n",
    "If station IDs are numeric but have missing values, float64 is fine. However, if there are no missing values, they should be int64.\n",
    "- `start_station_id`: ID of the start station. \n",
    "- `end_station_id`: ID of the end station.\n",
    "\n",
    "- `member_birth_year` (float64): Birth year of the member.\n",
    "There no missing values, it should be int64.\n"
   ]
  },
  {
   "cell_type": "markdown",
   "metadata": {},
   "source": [
    "### What are the main features of interest in the dataset?\n",
    "The main features of interest in the dataset are:\n",
    "- `duration_sec`: To analyze the duration of bike trips.\n",
    "- `user_type`: To understand the distribution of trips between customers and subscribers.\n",
    "- `member_birth_year`: To analyze the age distribution of users and its potential impact on trip duration and user behavior.\n",
    "- `start_time` and `end_time`: Start and end times of the trip, which can be converted to datetime format for easier manipulation and analysis of time-based data.\n",
    "\n",
    "\n",
    "### What features in the dataset do you think will help support your investigation into your feature(s) of interest?\n",
    "\n",
    "The following features will help support the investigation into the main features of interest:\n",
    "- `start_time` and `end_time`: To analyze the time of day and duration of trips.\n",
    "- `start_station_name` and `end_station_name`: To identify popular start and end stations.\n",
    "- `member_birth_year`: To explore the age distribution of users and its impact on trip duration.\n",
    "- `bike_share_for_all_trip`: To understand the usage patterns of bike-sharing for entire trips."
   ]
  },
  {
   "cell_type": "markdown",
   "metadata": {},
   "source": [
    "# Preliminary Cleaning"
   ]
  },
  {
   "cell_type": "code",
   "execution_count": null,
   "metadata": {},
   "outputs": [],
   "source": [
    "# 2. Fill missing station names with \"Unknown\"\n",
    "df['start_station_name'] = df['start_station_name'].fillna(\"Unknown\")\n",
    "df['end_station_name'] = df['end_station_name'].fillna(\"Unknown\")\n"
   ]
  },
  {
   "cell_type": "markdown",
   "metadata": {},
   "source": [
    "> **Rubric Tip**: The project (Parts I alone) should have at least 15 visualizations distributed over univariate, bivariate, and multivariate plots to explore many relationships in the data set.  Use reasoning to justify the flow of the exploration.\n",
    "\n",
    ">**Rubric Tip**: Use the \"Question-Visualization-Observations\" framework  throughout the exploration. This framework involves **asking a question from the data, creating a visualization to find answers, and then recording observations after each visualisation.** "
   ]
  },
  {
   "cell_type": "markdown",
   "metadata": {},
   "source": [
    "# Univariate Exploration\n",
    "- In this section, we will investigate distributions of individual variables. Looking for unusual points or outliers, taking a deeper look to clean things up\n",
    "and prepare to look at relationships between variables."
   ]
  },
  {
   "cell_type": "markdown",
   "metadata": {},
   "source": [
    "---"
   ]
  },
  {
   "cell_type": "markdown",
   "metadata": {},
   "source": [
    "**Question 1: What is the distribution of trip durations?**"
   ]
  },
  {
   "cell_type": "code",
   "execution_count": null,
   "metadata": {},
   "outputs": [],
   "source": [
    "# Visualization\n",
    "# Plot the distribution of trip durations\n",
    "plt.figure(figsize=(10, 6))\n",
    "sns.histplot(df['duration_sec'], kde=True)\n",
    "plt.title('Distribution of Trip Duration')\n",
    "plt.xlabel('Duration (seconds)')\n",
    "plt.ylabel('Frequency')\n",
    "plt.show()"
   ]
  },
  {
   "cell_type": "markdown",
   "metadata": {},
   "source": [
    "**Observations:** \n",
    "The distribution of trip durations is right-skewed, with most trips lasting less than 2000 seconds (approximately 33 minutes). There are some outliers with very long trip durations."
   ]
  },
  {
   "cell_type": "markdown",
   "metadata": {},
   "source": [
    "---"
   ]
  },
  {
   "cell_type": "markdown",
   "metadata": {},
   "source": [
    "**Question 2: What is the distribution of user types?**"
   ]
  },
  {
   "cell_type": "code",
   "execution_count": null,
   "metadata": {},
   "outputs": [],
   "source": [
    "# V\n",
    "# Plot the distribution of user types\n",
    "plt.figure(figsize=(10, 6))\n",
    "sns.countplot(data=df, x='user_type')\n",
    "plt.title('Distribution of User Types')\n",
    "plt.xlabel('User Type')\n",
    "plt.ylabel('Count')\n",
    "plt.show()"
   ]
  },
  {
   "cell_type": "markdown",
   "metadata": {},
   "source": [
    "**Observations:** \n",
    "The majority of bike trips are taken by subscribers rather than customers."
   ]
  },
  {
   "cell_type": "markdown",
   "metadata": {},
   "source": [
    "---"
   ]
  },
  {
   "cell_type": "markdown",
   "metadata": {},
   "source": [
    "**Question 3: What is the distribution of member genders?**\n"
   ]
  },
  {
   "cell_type": "code",
   "execution_count": null,
   "metadata": {},
   "outputs": [],
   "source": [
    "# Plot the distribution of member genders\n",
    "plt.figure(figsize=(10, 6))\n",
    "sns.countplot(data=df, x='member_gender')\n",
    "plt.title('Distribution of Member Genders')\n",
    "plt.xlabel('Gender')\n",
    "plt.ylabel('Count')\n",
    "plt.show()"
   ]
  },
  {
   "cell_type": "markdown",
   "metadata": {},
   "source": [
    "**Observations:** There are more male riders than female riders. There is also a significant number of riders with unspecified gender."
   ]
  },
  {
   "cell_type": "markdown",
   "metadata": {},
   "source": [
    "---"
   ]
  },
  {
   "cell_type": "markdown",
   "metadata": {},
   "source": [
    "**Question 4: What is the distribution of member birth years?**"
   ]
  },
  {
   "cell_type": "code",
   "execution_count": null,
   "metadata": {},
   "outputs": [],
   "source": [
    "# Plot the distribution of member birth years\n",
    "plt.figure(figsize=(10, 6))\n",
    "sns.histplot(df['member_birth_year'], kde=True, bins=30)\n",
    "plt.title('Distribution of Member Birth Years')\n",
    "plt.xlabel('Birth Year')\n",
    "plt.ylabel('Frequency')\n",
    "plt.show()"
   ]
  },
  {
   "cell_type": "markdown",
   "metadata": {},
   "source": [
    "**Observations:** \n",
    "The distribution of member birth years shows that most riders were born between 1970 and 2000, with a peak around 1985. There are some outliers with very early birth years, which may indicate data entry errors."
   ]
  },
  {
   "cell_type": "markdown",
   "metadata": {},
   "source": [
    "---"
   ]
  },
  {
   "cell_type": "markdown",
   "metadata": {},
   "source": [
    "**Question 5: What is the distribution of bike share for all trips?**"
   ]
  },
  {
   "cell_type": "code",
   "execution_count": null,
   "metadata": {},
   "outputs": [],
   "source": [
    "# Plot the distribution of bike share for all trips\n",
    "plt.figure(figsize=(10, 6))\n",
    "sns.countplot(data=df, x='bike_share_for_all_trip')\n",
    "plt.title('Distribution of Bike Share for All Trips')\n",
    "plt.xlabel('Bike Share for All Trip')\n",
    "plt.ylabel('Count')\n",
    "plt.show()"
   ]
  },
  {
   "cell_type": "markdown",
   "metadata": {},
   "source": [
    "**Observations:** Most trips are not part of the bike share for all trips program."
   ]
  },
  {
   "cell_type": "markdown",
   "metadata": {},
   "source": [
    "---"
   ]
  },
  {
   "cell_type": "markdown",
   "metadata": {},
   "source": [
    "\n",
    "\n",
    ">**Rubric Tip**: Visualizations should depict the data appropriately so that the plots are easily interpretable. You should choose an appropriate plot type, data encodings, and formatting as needed. The formatting may include setting/adding the title, labels, legend, and comments. Also, do not overplot or incorrectly plot ordinal data."
   ]
  },
  {
   "cell_type": "code",
   "execution_count": null,
   "metadata": {},
   "outputs": [],
   "source": []
  },
  {
   "cell_type": "markdown",
   "metadata": {},
   "source": [
    "### Discuss the distributions of variables of interest. Were there any unusual points? Did you need to perform any transformations?\n",
    "\n",
    "Question 1 - What is the distribution of trip durations?\n",
    "- The distribution of trip durations is right-skewed, with most trips lasting less than 2000 seconds (approximately 33 minutes). There are some outliers with very long trip durations, which may need further investigation to determine if they are valid data points or errors.\n",
    "\n",
    "Question 2 - \n",
    "- The distribution of user types shows that the majority of bike trips are taken by subscribers rather than customers. This indicates that the bike-sharing system is more popular among regular users.\n",
    "\n",
    "Question 3\n",
    "- The distribution of member genders reveals that there are more male riders than female riders. There is also a significant number of riders with unspecified gender, which could be due to missing or unreported data.\n",
    "\n",
    "Question 4\n",
    "- The distribution of member birth years shows that most riders were born between 1970 and 2000, with a peak around 1985. There are some outliers with very early birth years, which may indicate data entry errors or unrealistic values.\n",
    "\n",
    "Question 5 \n",
    "- The distribution of bike share for all trips indicates that most trips are not part of the bike share for all trips program.\n",
    "\n",
    "### Of the features investigated, were there any unusual distributions? \n",
    "### Any operations on the data to tidy, adjust, or change the form of the data? \n",
    "### If so, why did you do this?\n",
    "\n",
    "**Yes, there were some unusual distributions observed:**\n",
    "\n",
    "- The trip duration variable had some outliers with very long durations. These outliers may need further investigation to determine if they are valid data points or errors. If they are errors, they should be removed or corrected.\n",
    "\n",
    "- The member birth year variable had some outliers with very early birth years, which may indicate data entry errors or unrealistic values. These outliers should be investigated and potentially removed or corrected.\n",
    "\n",
    "To tidy the data, the following operations were performed:\n",
    "\n",
    "- Dropped rows with missing values to ensure a clean dataset for analysis.\n",
    "- Investigated and visualized the distributions to identify any unusual points or outliers that may need further attention."
   ]
  },
  {
   "cell_type": "markdown",
   "metadata": {},
   "source": [
    "# Bivariate Exploration\n",
    "- Let's proceed with the bivariate exploration by investigating relationships between pairs of variables. \n",
    "- We'll follow the \"Question-Visualization-Observations\" framework for each pair of variables."
   ]
  },
  {
   "cell_type": "markdown",
   "metadata": {},
   "source": [
    "**Question 1: What is the relationship between trip duration and user type?**"
   ]
  },
  {
   "cell_type": "code",
   "execution_count": null,
   "metadata": {},
   "outputs": [],
   "source": [
    "# Remove trips with duration greater than 3 hours (10,800 seconds)\n",
    "df = df[df['duration_sec'] <= 8000]\n",
    "\n",
    "# Plot the boxplot for trip duration by bike share for all trips\n",
    "plt.figure(figsize=(10, 6))\n",
    "sns.boxplot(data=df, x='bike_share_for_all_trip', y='duration_sec')\n",
    "plt.title('Trip Duration by Bike Share for All Trips (Filtered)')\n",
    "plt.xlabel('Bike Share for All Trip')\n",
    "plt.ylabel('Duration (seconds)')\n",
    "plt.show()"
   ]
  },
  {
   "cell_type": "markdown",
   "metadata": {},
   "source": [
    "Observations: The boxplot shows that customers tend to have longer trip durations compared to subscribers. This could be because subscribers are more familiar with the bike-sharing system and use it for shorter, more frequent trips.\n",
    "\n",
    "---"
   ]
  },
  {
   "cell_type": "markdown",
   "metadata": {},
   "source": [
    "Question 2: What is the relationship between trip duration and member gender?"
   ]
  },
  {
   "cell_type": "code",
   "execution_count": null,
   "metadata": {},
   "outputs": [],
   "source": [
    "# Plot the relationship between trip duration and member gender\n",
    "plt.figure(figsize=(10, 6))\n",
    "sns.boxplot(data=df, x='member_gender', y='duration_sec')\n",
    "plt.title('Trip Duration by Member Gender')\n",
    "plt.xlabel('Gender')\n",
    "plt.ylabel('Duration (seconds)')\n",
    "plt.show()"
   ]
  },
  {
   "cell_type": "markdown",
   "metadata": {},
   "source": [
    "Observations:\n",
    "The boxplot shows that there is a slight difference in trip durations between male and female riders, with female riders having slightly longer trip durations on average. Riders with unspecified gender have the longest trip durations, which may require further investigation.\n",
    "\n",
    "---"
   ]
  },
  {
   "cell_type": "markdown",
   "metadata": {},
   "source": [
    "Question 3: What is the relationship between user type and member gender?"
   ]
  },
  {
   "cell_type": "code",
   "execution_count": null,
   "metadata": {},
   "outputs": [],
   "source": [
    "# Plot the relationship between user type and member gender\n",
    "plt.figure(figsize=(10, 6))\n",
    "sns.countplot(data=df, x='user_type', hue='member_gender')\n",
    "plt.title('User Type by Member Gender')\n",
    "plt.xlabel('User Type')\n",
    "plt.ylabel('Count')\n",
    "plt.show()"
   ]
  },
  {
   "cell_type": "markdown",
   "metadata": {},
   "source": [
    "Observations:\n",
    "- The countplot shows that there are more male subscribers compared to female subscribers. \n",
    "- The number of customers is relatively balanced between genders, but there are still more male customers than female customers.\n",
    "---"
   ]
  },
  {
   "cell_type": "markdown",
   "metadata": {},
   "source": [
    "Question 4: What is the relationship between trip duration and member birth year?"
   ]
  },
  {
   "cell_type": "code",
   "execution_count": null,
   "metadata": {},
   "outputs": [],
   "source": [
    "# Plot the relationship between trip duration and member birth year\n",
    "plt.figure(figsize=(10, 6))\n",
    "sns.scatterplot(data=df, x='member_birth_year', y='duration_sec', alpha=0.3)\n",
    "plt.title('Trip Duration by Member Birth Year')\n",
    "plt.xlabel('Birth Year')\n",
    "plt.ylabel('Duration (seconds)')\n",
    "plt.show()"
   ]
  },
  {
   "cell_type": "markdown",
   "metadata": {},
   "source": [
    "Observations:\n",
    "- The scatterplot shows that there is no clear relationship between trip duration and member birth year. However, there are some outliers with very long trip durations and very early birth years, which may indicate data entry errors.\n",
    "---"
   ]
  },
  {
   "cell_type": "markdown",
   "metadata": {},
   "source": [
    "Question: What times of day are most popular for bike trips?"
   ]
  },
  {
   "cell_type": "code",
   "execution_count": null,
   "metadata": {},
   "outputs": [],
   "source": [
    "# Extract hour from start_time\n",
    "df['start_hour'] = pd.to_datetime(df['start_time']).dt.hour\n",
    "\n",
    "# Plot the distribution of start hours\n",
    "plt.figure(figsize=(10, 6))\n",
    "sns.countplot(data=df, x='start_hour', color='tab:blue')\n",
    "plt.title('Distribution of Start Hours')\n",
    "plt.xlabel('Hour of Day')\n",
    "plt.ylabel('Count')\n",
    "plt.show()"
   ]
  },
  {
   "cell_type": "markdown",
   "metadata": {},
   "source": [
    "Observations: \n",
    "Pike usage seen on Mornings between 7-9 am, then again in the afternoon from 4-6pm.\n",
    "\n",
    "---"
   ]
  },
  {
   "cell_type": "markdown",
   "metadata": {},
   "source": [
    "Question 5: What is the relationship between start station and end station?"
   ]
  },
  {
   "cell_type": "code",
   "execution_count": null,
   "metadata": {},
   "outputs": [],
   "source": [
    "# Plot the relationship between start station and end station\n",
    "plt.figure(figsize=(10, 6))\n",
    "\n",
    "# Plot start station locations\n",
    "plt.scatter(df['start_station_longitude'], df['start_station_latitude'], \n",
    "            alpha=0.1, label='Start Station', color='blue', s=1)\n",
    "\n",
    "# Plot end station locations\n",
    "plt.scatter(df['end_station_longitude'], df['end_station_latitude'], \n",
    "            alpha=0.1, label='End Station', color='red', s=1)\n",
    "\n",
    "# Add labels and title\n",
    "plt.title('Start Station vs End Station Locations with Map Background')\n",
    "plt.xlabel('Longitude')\n",
    "plt.ylabel('Latitude')\n",
    "\n",
    "# Add legend\n",
    "plt.legend()\n",
    "\n",
    "# Show the plot\n",
    "plt.show()"
   ]
  },
  {
   "cell_type": "markdown",
   "metadata": {},
   "source": [
    "Observations:\n",
    "- The scatterplot shows that the start and end stations are generally clustered in the same areas, indicating that most trips start and end in similar locations. This suggests that riders often return bikes to stations near their starting point.\n",
    "---"
   ]
  },
  {
   "cell_type": "markdown",
   "metadata": {},
   "source": [
    "### Talk about some of the relationships observed the Bivariate Exploration part of the investigation. \n",
    "### How did the feature(s) of interest vary with other features in the dataset?\n",
    "\n",
    "- The relationship between trip duration and user type shows that customers tend to have longer trip durations compared to subscribers. This could be because subscribers are more familiar with the bike-sharing system and use it for shorter, more frequent trips.\n",
    "\n",
    "- The relationship between trip duration and member gender indicates that female riders have slightly longer trip durations on average compared to male riders. Riders with unspecified gender have the longest trip durations, which may require further investigation.\n",
    "\n",
    "- The relationship between trip duration and member birth year shows no clear pattern, but there are some outliers with very long trip durations and very early birth years, which may indicate data entry errors.\n",
    "\n",
    "### Did we observe any interesting relationships between the other features (not the main feature(s) of interest)?\n",
    "\n",
    "- The relationship between user type and member gender shows that there are more male subscribers compared to female subscribers. The number of customers is relatively balanced between genders, but there are still more male customers than female customers.\n",
    "\n",
    "- The relationship between start station and end station locations indicates that most trips start and end in similar locations, suggesting that riders often return bikes to stations near their starting point."
   ]
  },
  {
   "cell_type": "markdown",
   "metadata": {},
   "source": [
    "# Multivariate Exploration\n",
    "\n",
    "> Create plots of three or more variables to investigate your data even\n",
    "further. Make sure that your investigations are justified, and follow from\n",
    "your work in the previous sections."
   ]
  },
  {
   "cell_type": "code",
   "execution_count": null,
   "metadata": {},
   "outputs": [],
   "source": []
  },
  {
   "cell_type": "markdown",
   "metadata": {},
   "source": [
    "### Talk about some of the relationships you observed in this part of the investigation. Were there features that strengthened each other in terms of looking at your feature(s) of interest?\n",
    "\n",
    "> Your answer here!\n",
    "\n",
    "### Were there any interesting or surprising interactions between features?\n",
    "\n",
    "> Your answer here!"
   ]
  },
  {
   "cell_type": "markdown",
   "metadata": {},
   "source": [
    "# Conclusions\n",
    ">You can write a summary of the main findings and reflect on the steps taken during the data exploration.\n"
   ]
  },
  {
   "cell_type": "markdown",
   "metadata": {},
   "source": [
    "\n",
    "> Remove all Tips mentioned above, before you convert this notebook to PDF/HTML\n",
    "\n",
    "\n",
    "> At the end of your report, make sure that you export the notebook as an\n",
    "html file from the `File > Download as... > HTML or PDF` menu. Make sure you keep\n",
    "track of where the exported file goes, so you can put it in the same folder\n",
    "as this notebook for project submission. Also, make sure you remove all of\n",
    "the quote-formatted guide notes like this one before you finish your report!\n",
    "\n"
   ]
  },
  {
   "cell_type": "code",
   "execution_count": null,
   "metadata": {},
   "outputs": [],
   "source": []
  }
 ],
 "metadata": {
  "kernelspec": {
   "display_name": "Python 3",
   "language": "python",
   "name": "python3"
  },
  "language_info": {
   "codemirror_mode": {
    "name": "ipython",
    "version": 3
   },
   "file_extension": ".py",
   "mimetype": "text/x-python",
   "name": "python",
   "nbconvert_exporter": "python",
   "pygments_lexer": "ipython3",
   "version": "3.11.4"
  }
 },
 "nbformat": 4,
 "nbformat_minor": 2
}
